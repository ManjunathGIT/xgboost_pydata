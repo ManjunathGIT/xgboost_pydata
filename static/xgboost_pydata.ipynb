{
 "cells": [
  {
   "cell_type": "code",
   "execution_count": 1,
   "metadata": {
    "slideshow": {
     "slide_type": "skip"
    }
   },
   "outputs": [
    {
     "name": "stderr",
     "output_type": "stream",
     "text": [
      "/Users/jaroslaw.szymczak/anaconda3/lib/python3.5/site-packages/sklearn/cross_validation.py:41: DeprecationWarning: This module was deprecated in version 0.18 in favor of the model_selection module into which all the refactored classes and functions are moved. Also note that the interface of the new CV iterators are different from that of this module. This module will be removed in 0.20.\n",
      "  \"This module will be removed in 0.20.\", DeprecationWarning)\n"
     ]
    }
   ],
   "source": [
    "# Add all necessary imports here\n",
    "import matplotlib.pyplot as plt\n",
    "import xgboost as xgb\n",
    "import pandas as pd\n",
    "import numpy as np\n",
    "from sklearn.datasets import fetch_20newsgroups\n",
    "from sklearn.model_selection import train_test_split\n",
    "from sklearn.metrics import accuracy_score, roc_auc_score\n",
    "from sklearn.feature_extraction.text import TfidfVectorizer, CountVectorizer\n",
    "import scipy.sparse\n",
    "np.set_printoptions(precision=3, suppress=True)\n",
    "%matplotlib inline\n",
    "plt.style.reload_library()\n",
    "plt.style.use(\"ggplot\")"
   ]
  },
  {
   "cell_type": "markdown",
   "metadata": {
    "slideshow": {
     "slide_type": "skip"
    }
   },
   "source": [
    "### Cover Slide 1"
   ]
  },
  {
   "cell_type": "raw",
   "metadata": {
    "slideshow": {
     "slide_type": "slide"
    }
   },
   "source": [
    "<image>\n",
    "<section data-background=\"img/cover.png\" data-state=\"img-transparent no-title-footer\">\n",
    "<div class=\"intro-body\">\n",
    "<div class=\"intro_h1\"><h1>Gradient boosting in practice</h1></div>\n",
    "<h3>a deep dive into xgboost</h3>\n",
    "<p><strong><span class=\"a\">by Jaroslaw</span></strong> <span class=\"b\"></span> <span>Machine Learning Scientist</span></p>\n",
    "<p><strong><span class=\"a\">Szymczak</span></strong> <span class=\"b\"></span> <span>@ OLX Tech Hub Berlin</span></p>\n",
    "<p>&nbsp;</p>\n",
    "<p>&nbsp;</p>\n",
    "</div>\n",
    "</section>\n",
    "</image>"
   ]
  },
  {
   "cell_type": "markdown",
   "metadata": {
    "slideshow": {
     "slide_type": "skip"
    }
   },
   "source": [
    "### Divider"
   ]
  },
  {
   "cell_type": "raw",
   "metadata": {
    "raw_mimetype": "text/html",
    "slideshow": {
     "slide_type": "slide"
    }
   },
   "source": [
    "<image>\n",
    "</section>\n",
    "<section data-background=\"#F27C3A\" data-state=\"no-title-footer\">\n",
    "  <div class=\"divider_h1\">\n",
    "    <h1>Let's start with some theory...</h1>\n",
    "  </div>\n",
    "</section>\n",
    "</image>"
   ]
  },
  {
   "cell_type": "markdown",
   "metadata": {
    "slideshow": {
     "slide_type": "slide"
    }
   },
   "source": [
    "![Color](img/roadmap_tree.png)"
   ]
  },
  {
   "cell_type": "markdown",
   "metadata": {
    "slideshow": {
     "slide_type": "subslide"
    }
   },
   "source": [
    "# Classification problem example\n",
    "\n",
    "![Color](img/play_tennis_table.png)"
   ]
  },
  {
   "cell_type": "markdown",
   "metadata": {
    "slideshow": {
     "slide_type": "subslide"
    }
   },
   "source": [
    "# Example decision tree\n",
    "\n",
    "![Color](img/play_tennis_tree.png)"
   ]
  },
  {
   "cell_type": "markdown",
   "metadata": {
    "slideshow": {
     "slide_type": "slide"
    }
   },
   "source": [
    "![Color](img/roadmap_bias_variance.png)"
   ]
  },
  {
   "cell_type": "markdown",
   "metadata": {
    "slideshow": {
     "slide_type": "subslide"
    }
   },
   "source": [
    "# Bias and variance source of error\n",
    "\n",
    "![Color](img/bias_variance.png)"
   ]
  },
  {
   "cell_type": "markdown",
   "metadata": {
    "slideshow": {
     "slide_type": "slide"
    }
   },
   "source": [
    "![Color](img/roadmap_bagging.png)"
   ]
  },
  {
   "cell_type": "markdown",
   "metadata": {
    "slideshow": {
     "slide_type": "subslide"
    }
   },
   "source": [
    "# Bagging\n",
    "![Color](img/bagging.png)"
   ]
  },
  {
   "cell_type": "markdown",
   "metadata": {
    "slideshow": {
     "slide_type": "slide"
    }
   },
   "source": [
    "![Color](img/roadmap_random_forest.png)"
   ]
  },
  {
   "cell_type": "markdown",
   "metadata": {
    "slideshow": {
     "slide_type": "subslide"
    }
   },
   "source": [
    "![Color](img/random_forest.png)"
   ]
  },
  {
   "cell_type": "markdown",
   "metadata": {
    "slideshow": {
     "slide_type": "slide"
    }
   },
   "source": [
    "![Color](img/roadmap_adaboost.png)"
   ]
  },
  {
   "cell_type": "markdown",
   "metadata": {
    "slideshow": {
     "slide_type": "subslide"
    }
   },
   "source": [
    "# Adaptive Boosting\n",
    "\n",
    "![Color](img/adaboost.png)"
   ]
  },
  {
   "cell_type": "markdown",
   "metadata": {
    "slideshow": {
     "slide_type": "slide"
    }
   },
   "source": [
    "![Color](img/roadmap_gbm.png)"
   ]
  },
  {
   "cell_type": "markdown",
   "metadata": {
    "slideshow": {
     "slide_type": "subslide"
    }
   },
   "source": [
    "#  Gradient Boosting\n",
    "\n",
    "![Color](img/gbm_regression.png)"
   ]
  },
  {
   "cell_type": "markdown",
   "metadata": {
    "slideshow": {
     "slide_type": "subslide"
    }
   },
   "source": [
    "# Gradient descent\n",
    "![Color](img/gbm_gradient.png)"
   ]
  },
  {
   "cell_type": "markdown",
   "metadata": {
    "slideshow": {
     "slide_type": "slide"
    }
   },
   "source": [
    "![Color](img/roadmap_xgb.png)"
   ]
  },
  {
   "cell_type": "markdown",
   "metadata": {
    "slideshow": {
     "slide_type": "subslide"
    }
   },
   "source": [
    "# XGBoost\n",
    "\n",
    "![Color](img/xgb_features_1.png)"
   ]
  },
  {
   "cell_type": "markdown",
   "metadata": {
    "slideshow": {
     "slide_type": "subslide"
    }
   },
   "source": [
    "# XGBoost custom tree building algorithm\n",
    "\n",
    "Most of machine learning practitioners know at least these two measures used for tree building:\n",
    "- entropy (information gain)\n",
    "- gini coefficient\n",
    "\n",
    "XGBoost has a custom objective function used for building the tree. It requires:\n",
    "- gradient\n",
    "- hessian\n",
    "\n",
    "of the objective function. E.g. for linear regression and RMSE, for single observation:\n",
    "- gradient = residual\n",
    "- hessian = 1\n",
    "\n",
    "We will go further into regularization parameters when we discuss tree tuning."
   ]
  },
  {
   "cell_type": "markdown",
   "metadata": {
    "slideshow": {
     "slide_type": "subslide"
    }
   },
   "source": [
    "# XGBoost\n",
    "\n",
    "![Color](img/xgb_features_2.png)"
   ]
  },
  {
   "cell_type": "raw",
   "metadata": {
    "slideshow": {
     "slide_type": "slide"
    }
   },
   "source": [
    "<image>\n",
    "</section>\n",
    "<section data-background=\"#0093C9\" data-state=\"no-title-footer\">\n",
    "  <div class=\"divider_h1\">\n",
    "    <h1>Time for some coding practice</h1>\n",
    "  </div>\n",
    "</section>\n",
    "</image>"
   ]
  },
  {
   "cell_type": "markdown",
   "metadata": {
    "slideshow": {
     "slide_type": "slide"
    }
   },
   "source": [
    "# XGBoost classifier with default parameters"
   ]
  },
  {
   "cell_type": "code",
   "execution_count": 2,
   "metadata": {
    "slideshow": {
     "slide_type": "-"
    }
   },
   "outputs": [
    {
     "data": {
      "text/plain": [
       "{'_Booster': None,\n",
       " 'base_score': 0.5,\n",
       " 'colsample_bylevel': 1,\n",
       " 'colsample_bytree': 1,\n",
       " 'gamma': 0,\n",
       " 'learning_rate': 0.1,\n",
       " 'max_delta_step': 0,\n",
       " 'max_depth': 3,\n",
       " 'min_child_weight': 1,\n",
       " 'missing': nan,\n",
       " 'n_estimators': 100,\n",
       " 'nthread': -1,\n",
       " 'objective': 'binary:logistic',\n",
       " 'reg_alpha': 0,\n",
       " 'reg_lambda': 1,\n",
       " 'scale_pos_weight': 1,\n",
       " 'seed': 0,\n",
       " 'silent': True,\n",
       " 'subsample': 1}"
      ]
     },
     "execution_count": 2,
     "metadata": {},
     "output_type": "execute_result"
    }
   ],
   "source": [
    "import xgboost as xgb\n",
    "clf = xgb.XGBClassifier()\n",
    "clf.__dict__"
   ]
  },
  {
   "cell_type": "code",
   "execution_count": 3,
   "metadata": {
    "slideshow": {
     "slide_type": "skip"
    }
   },
   "outputs": [],
   "source": [
    "train = fetch_20newsgroups(subset='train', remove=('headers', 'footers', 'quotes'))\n",
    "test = fetch_20newsgroups(subset='test', remove=('headers', 'footers', 'quotes'))\n",
    "\n",
    "X, y = train.data, train.target\n",
    "#X = np.array(X)\n",
    "#y = np.array(y)\n",
    "#train_selection = (np.random.random(size=X.shape[0]) < 0.05)\n",
    "#X = X[train_selection]\n",
    "#y = y[train_selection]\n",
    "X_test_docs, y_test = test.data, test.target\n",
    "X_train_docs, X_val_docs, y_train, y_val = train_test_split(X, y, test_size=0.2, random_state=42)\n",
    "tfidf = TfidfVectorizer(min_df=0.005, max_df=0.5).fit(X_train_docs)\n",
    "X_train_tfidf = tfidf.transform(X_train_docs).tocsc()\n",
    "X_val_tfidf = tfidf.transform(X_val_docs).tocsc()\n",
    "X_test_tfidf = tfidf.transform(X_test_docs).tocsc()"
   ]
  },
  {
   "cell_type": "markdown",
   "metadata": {
    "slideshow": {
     "slide_type": "slide"
    }
   },
   "source": [
    "# Dataset preparation\n",
    "```python\n",
    "train = fetch_20newsgroups(subset='train', remove=('headers', 'footers', 'quotes'))\n",
    "test = fetch_20newsgroups(subset='test', remove=('headers', 'footers', 'quotes'))\n",
    "X, y = train.data, train.target\n",
    "X_test_docs, y_test = test.data, test.target\n",
    "X_train_docs, X_val_docs, y_train, y_val = train_test_split(X, y, test_size=0.2, random_state=42)\n",
    "tfidf = TfidfVectorizer(min_df=0.005, max_df=0.5).fit(X_train)\n",
    "X_train_tfidf = tfidf.transform(X_train_docs).tocsc()\n",
    "X_val_tfidf = tfidf.transform(X_val_docs).tocsc()\n",
    "X_test_tfidf = tfidf.transform(X_test_docs).tocsc()\n",
    "```"
   ]
  },
  {
   "cell_type": "code",
   "execution_count": 70,
   "metadata": {
    "slideshow": {
     "slide_type": "subslide"
    }
   },
   "outputs": [
    {
     "name": "stdout",
     "output_type": "stream",
     "text": [
      "X_train shape: (9051, 2665)\n",
      "X_val shape: (2263, 2665)\n",
      "X_test shape: (7532, 2665)\n",
      "X_train density: 0.023\n"
     ]
    }
   ],
   "source": [
    "print(\"X_train shape: {}\".format(X_train_tfidf.get_shape()))\n",
    "print(\"X_val shape: {}\".format(X_val_tfidf.get_shape()))\n",
    "print(\"X_test shape: {}\".format(X_test_tfidf.get_shape()))\n",
    "print(\"X_train density: {:.3f}\".format(\n",
    "    (X_train_tfidf.nnz / np.prod(X_train_tfidf.shape))))"
   ]
  },
  {
   "cell_type": "markdown",
   "metadata": {
    "slideshow": {
     "slide_type": "slide"
    }
   },
   "source": [
    "# Simple classification"
   ]
  },
  {
   "cell_type": "code",
   "execution_count": 5,
   "metadata": {
    "slideshow": {
     "slide_type": "-"
    }
   },
   "outputs": [
    {
     "name": "stdout",
     "output_type": "stream",
     "text": [
      "[0]\tvalidation_0-merror:0.588443\tvalidation_1-merror:0.600088\n",
      "[11]\tvalidation_0-merror:0.429345\tvalidation_1-merror:0.476359\n",
      "[22]\tvalidation_0-merror:0.390012\tvalidation_1-merror:0.454264\n",
      "[33]\tvalidation_0-merror:0.356093\tvalidation_1-merror:0.443659\n",
      "[44]\tvalidation_0-merror:0.330461\tvalidation_1-merror:0.433053\n",
      "[55]\tvalidation_0-merror:0.308806\tvalidation_1-merror:0.427309\n",
      "[66]\tvalidation_0-merror:0.28936\tvalidation_1-merror:0.423774\n",
      "[77]\tvalidation_0-merror:0.270909\tvalidation_1-merror:0.41361\n",
      "[88]\tvalidation_0-merror:0.256988\tvalidation_1-merror:0.410517\n",
      "[99]\tvalidation_0-merror:0.242404\tvalidation_1-merror:0.410517\n",
      "Test error: 0.462\n"
     ]
    }
   ],
   "source": [
    "clf = xgb.XGBClassifier(seed=42, nthread=1)\n",
    "clf = clf.fit(X_train_tfidf, y_train, \n",
    "              eval_set=[(X_train_tfidf, y_train), (X_val_tfidf, y_val)], \n",
    "              verbose=11)\n",
    "\n",
    "y_pred = clf.predict(X_test_tfidf)\n",
    "y_pred_proba = clf.predict_proba(X_test_tfidf)\n",
    "print(\"Test error: {:.3f}\".format(1 - accuracy_score(y_test, y_pred)))"
   ]
  },
  {
   "cell_type": "markdown",
   "metadata": {
    "slideshow": {
     "slide_type": "slide"
    }
   },
   "source": [
    "# Exploring some XGBoost properties\n",
    "\n",
    "As mentioned in meetup description, we will see that:"
   ]
  },
  {
   "cell_type": "markdown",
   "metadata": {
    "slideshow": {
     "slide_type": "fragment"
    }
   },
   "source": [
    "- monotonic transformation have little to no effect on final results"
   ]
  },
  {
   "cell_type": "markdown",
   "metadata": {
    "slideshow": {
     "slide_type": "fragment"
    }
   },
   "source": [
    "- features can be correlated"
   ]
  },
  {
   "cell_type": "markdown",
   "metadata": {
    "slideshow": {
     "slide_type": "fragment"
    }
   },
   "source": [
    "- classifier is robust to noise"
   ]
  },
  {
   "cell_type": "markdown",
   "metadata": {
    "slideshow": {
     "slide_type": "subslide"
    }
   },
   "source": [
    "# Repeating the process without IDF factor"
   ]
  },
  {
   "cell_type": "code",
   "execution_count": 6,
   "metadata": {
    "slideshow": {
     "slide_type": "-"
    }
   },
   "outputs": [
    {
     "name": "stdout",
     "output_type": "stream",
     "text": [
      "[0]\tvalidation_0-merror:0.588443\tvalidation_1-merror:0.604507\n",
      "[33]\tvalidation_0-merror:0.356093\tvalidation_1-merror:0.443659\n",
      "[66]\tvalidation_0-merror:0.288034\tvalidation_1-merror:0.419355\n",
      "[99]\tvalidation_0-merror:0.241962\tvalidation_1-merror:0.411843\n",
      "Test error: 0.461\n"
     ]
    }
   ],
   "source": [
    "tf = TfidfVectorizer(min_df=0.005, max_df=0.5, use_idf=False).fit(X_train_docs)\n",
    "X_train = tf.transform(X_train_docs).tocsc()\n",
    "X_val = tf.transform(X_val_docs).tocsc()\n",
    "X_test = tf.transform(X_test_docs).tocsc()\n",
    "\n",
    "clf = xgb.XGBClassifier(seed=42, nthread=1).fit(X_train, y_train, eval_set=[(X_train, y_train), (X_val, y_val)], verbose=33)\n",
    "\n",
    "y_pred = clf.predict(X_test)\n",
    "print(\"Test error: {:.3f}\".format(1 - accuracy_score(y_test, y_pred)))"
   ]
  },
  {
   "cell_type": "markdown",
   "metadata": {
    "slideshow": {
     "slide_type": "-"
    }
   },
   "source": [
    "Previous run:\n",
    "```\n",
    "[0]     validation_0-merror:0.588443\tvalidation_1-merror:0.600088\n",
    "[33]\tvalidation_0-merror:0.356093\tvalidation_1-merror:0.443659\n",
    "[66]\tvalidation_0-merror:0.28936\t validation_1-merror:0.423774\n",
    "[99]\tvalidation_0-merror:0.242404\tvalidation_1-merror:0.410517\n",
    "```"
   ]
  },
  {
   "cell_type": "markdown",
   "metadata": {
    "slideshow": {
     "slide_type": "subslide"
    }
   },
   "source": [
    "# Adding some correlated CountVectorizer features"
   ]
  },
  {
   "cell_type": "code",
   "execution_count": 7,
   "metadata": {
    "slideshow": {
     "slide_type": "-"
    }
   },
   "outputs": [
    {
     "name": "stdout",
     "output_type": "stream",
     "text": [
      "[0]\tvalidation_0-merror:0.588664\tvalidation_1-merror:0.60274\n",
      "[99]\tvalidation_0-merror:0.240636\tvalidation_1-merror:0.408308\n",
      "Test error: 0.464\n"
     ]
    }
   ],
   "source": [
    "cv = CountVectorizer(min_df=0.005, max_df=0.5).fit(X_train_docs)\n",
    "\n",
    "X_train_cv = cv.transform(X_train_docs).tocsc()\n",
    "X_val_cv = cv.transform(X_val_docs).tocsc()\n",
    "X_test_cv = cv.transform(X_test_docs).tocsc()\n",
    "\n",
    "X_train_corr = scipy.sparse.hstack([X_train, X_train_cv])\n",
    "X_val_corr = scipy.sparse.hstack([X_val, X_val_cv])\n",
    "X_test_corr = scipy.sparse.hstack([X_test, X_test_cv])\n",
    "\n",
    "clf = xgb.XGBClassifier(seed=42, nthread=1)\n",
    "clf = clf.fit(X_train_corr, y_train, eval_set=[(X_train_corr, y_train), (X_val_corr, y_val)], verbose=99)\n",
    "\n",
    "y_pred = clf.predict(X_test_corr)\n",
    "print(\"Test error: {:.3f}\".format(1 - accuracy_score(y_test, y_pred)))"
   ]
  },
  {
   "cell_type": "markdown",
   "metadata": {
    "slideshow": {
     "slide_type": "subslide"
    }
   },
   "source": [
    "# Adding some randomness"
   ]
  },
  {
   "cell_type": "code",
   "execution_count": 8,
   "metadata": {
    "slideshow": {
     "slide_type": "-"
    }
   },
   "outputs": [
    {
     "name": "stdout",
     "output_type": "stream",
     "text": [
      "[0]\tvalidation_0-merror:0.588443\tvalidation_1-merror:0.604507\n",
      "[99]\tvalidation_0-merror:0.221522\tvalidation_1-merror:0.417587\n",
      "Test error: 0.470\n"
     ]
    }
   ],
   "source": [
    "def extend_with_random(X, density=0.023):\n",
    "    X_extend = scipy.sparse.random(X.shape[0], 2*X.shape[1], density=density, format='csc')\n",
    "    return scipy.sparse.hstack([X, X_extend])\n",
    "\n",
    "\n",
    "X_train_noise = extend_with_random(X_train)\n",
    "X_val_noise = extend_with_random(X_val)\n",
    "X_test_noise = extend_with_random(X_test)\n",
    "\n",
    "clf = xgb.XGBClassifier(seed=42, nthread=1)\n",
    "clf = clf.fit(X_train_noise, y_train, eval_set=[(X_train_noise, y_train), (X_val_noise, y_val)], verbose=99)\n",
    "\n",
    "y_pred = clf.predict(X_test_noise)\n",
    "print(\"Test error: {:.3f}\".format(1 - accuracy_score(y_test, y_pred)))"
   ]
  },
  {
   "cell_type": "markdown",
   "metadata": {
    "slideshow": {
     "slide_type": "slide"
    }
   },
   "source": [
    "# Some XGBoost features\n"
   ]
  },
  {
   "cell_type": "markdown",
   "metadata": {
    "slideshow": {
     "slide_type": "fragment"
    }
   },
   "source": [
    "- watchlists (that we have seen so far)"
   ]
  },
  {
   "cell_type": "markdown",
   "metadata": {
    "slideshow": {
     "slide_type": "fragment"
    }
   },
   "source": [
    "- early stopping"
   ]
  },
  {
   "cell_type": "markdown",
   "metadata": {
    "slideshow": {
     "slide_type": "fragment"
    }
   },
   "source": [
    "- full learning history that we can plot"
   ]
  },
  {
   "cell_type": "markdown",
   "metadata": {
    "slideshow": {
     "slide_type": "subslide"
    }
   },
   "source": [
    "# Early stopping with watchlist"
   ]
  },
  {
   "cell_type": "code",
   "execution_count": 9,
   "metadata": {
    "slideshow": {
     "slide_type": "-"
    }
   },
   "outputs": [
    {
     "name": "stdout",
     "output_type": "stream",
     "text": [
      "[0]\tvalidation_0-merror:0.588443\tvalidation_1-merror:0.604507\n",
      "Multiple eval metrics have been passed: 'validation_1-merror' will be used for early stopping.\n",
      "\n",
      "Will train until validation_1-merror hasn't improved in 10 rounds.\n",
      "[100]\tvalidation_0-merror:0.241189\tvalidation_1-merror:0.412285\n",
      "Stopping. Best iteration:\n",
      "[123]\tvalidation_0-merror:0.215114\tvalidation_1-merror:0.401679\n",
      "\n",
      "Best iteration: 123\n",
      "Test error: 0.457\n"
     ]
    }
   ],
   "source": [
    "clf = xgb.XGBClassifier(n_estimators=50000)\n",
    "clf = clf.fit(X_train, y_train, \n",
    "              eval_set=[(X_train, y_train), (X_val, y_val)], \n",
    "              verbose=100, \n",
    "              early_stopping_rounds=10)\n",
    "\n",
    "print(\"Best iteration: {}\".format(clf.booster().best_iteration))\n",
    "y_pred = clf.predict(X_test, ntree_limit=clf.booster().best_ntree_limit)\n",
    "print(\"Test error: {:.3f}\".format(1 - accuracy_score(y_test, y_pred)))"
   ]
  },
  {
   "cell_type": "markdown",
   "metadata": {
    "slideshow": {
     "slide_type": "subslide"
    }
   },
   "source": [
    "# Plotting the learning curves"
   ]
  },
  {
   "cell_type": "code",
   "execution_count": 10,
   "metadata": {
    "slideshow": {
     "slide_type": "-"
    }
   },
   "outputs": [
    {
     "data": {
      "text/plain": [
       "<matplotlib.axes._subplots.AxesSubplot at 0x11a21c9b0>"
      ]
     },
     "execution_count": 10,
     "metadata": {},
     "output_type": "execute_result"
    },
    {
     "data": {
      "image/png": "[encoded data removed]",
      "text/plain": [
       "<matplotlib.figure.Figure at 0x10c331278>"
      ]
     },
     "metadata": {},
     "output_type": "display_data"
    }
   ],
   "source": [
    "evals_result = clf.evals_result()\n",
    "train_errors = evals_result['validation_0']['merror']\n",
    "validation_errors = evals_result['validation_1']['merror']\n",
    "df = pd.DataFrame([train_errors, validation_errors]).T\n",
    "df.columns = ['train', 'val']\n",
    "df.index.name = 'round'\n",
    "df.plot(title=\"XGBoost learning curves\", ylim=(0,0.7), figsize=(12,5))"
   ]
  },
  {
   "cell_type": "raw",
   "metadata": {
    "slideshow": {
     "slide_type": "slide"
    }
   },
   "source": [
    "<image>\n",
    "</section>\n",
    "<section data-background=\"img/tuning.jpg\" data-state=\"no-title-footer\">\n",
    "  <div class=\"divider_h1_yellow\">\n",
    "    <h1>Now we'll do some tuning</h1>\n",
    "  </div>\n",
    "</section>\n",
    "</image>"
   ]
  },
  {
   "cell_type": "markdown",
   "metadata": {
    "slideshow": {
     "slide_type": "slide"
    }
   },
   "source": [
    "# Tuning setting\n",
    "\n",
    "- we will do the comparison of errors on train, validation and test sets\n",
    "- normally I would recommend cross-validation for such task\n",
    "- together with a hold-out set that you check rarely\n",
    "- as you can overfit even when you use cross-validation\n",
    "- slight changes in error are inconclusive about parameters, just try different random seeds and you'll see for yourself\n",
    "- some parameters affect the training time, so it is enough that they don't make the final model worse, they don't have to improve it"
   ]
  },
  {
   "cell_type": "markdown",
   "metadata": {
    "slideshow": {
     "slide_type": "slide"
    }
   },
   "source": [
    "# General parameters"
   ]
  },
  {
   "cell_type": "markdown",
   "metadata": {
    "slideshow": {
     "slide_type": "fragment"
    }
   },
   "source": [
    "- max_depth (how deep is your tree?)"
   ]
  },
  {
   "cell_type": "markdown",
   "metadata": {
    "slideshow": {
     "slide_type": "fragment"
    }
   },
   "source": [
    "- learning_rate (shrinkage parameter, \"speed of learning\")"
   ]
  },
  {
   "cell_type": "markdown",
   "metadata": {
    "slideshow": {
     "slide_type": "fragment"
    }
   },
   "source": [
    "- max_delta_step (additional cap on learning rate, needed in case of highly imbalanced classes, in which case it is suggested to try values from 1 to 10)"
   ]
  },
  {
   "cell_type": "markdown",
   "metadata": {
    "slideshow": {
     "slide_type": "fragment"
    }
   },
   "source": [
    "- n_estimators (number of boosting rounds)"
   ]
  },
  {
   "cell_type": "markdown",
   "metadata": {
    "slideshow": {
     "slide_type": "fragment"
    }
   },
   "source": [
    "- booster (as XGBoost is not only about trees, but it actually is)"
   ]
  },
  {
   "cell_type": "markdown",
   "metadata": {
    "slideshow": {
     "slide_type": "fragment"
    }
   },
   "source": [
    "- scale_pos_weight (in binary classification whether to rebalance the weights of positive vs. negative samples)"
   ]
  },
  {
   "cell_type": "markdown",
   "metadata": {
    "slideshow": {
     "slide_type": "subslide"
    }
   },
   "source": [
    "- base_score (boosting starts with predicting 0.5 for all observations, you can change it here)"
   ]
  },
  {
   "cell_type": "markdown",
   "metadata": {
    "slideshow": {
     "slide_type": "fragment"
    }
   },
   "source": [
    "- seed / random_state (so you can reproduce your results, will not work exactly if you use multiple threads or on some processor / system architectures due to randomness introduced by floating point numbers rounding)"
   ]
  },
  {
   "cell_type": "markdown",
   "metadata": {
    "slideshow": {
     "slide_type": "fragment"
    }
   },
   "source": [
    "- missing (if you want to treat some other things as missing than np.nan)"
   ]
  },
  {
   "cell_type": "markdown",
   "metadata": {
    "slideshow": {
     "slide_type": "fragment"
    }
   },
   "source": [
    "- objective (if you want to play with maths, just give the callable that maps objective(y_true, y_pred) -> grad, hes)"
   ]
  },
  {
   "cell_type": "markdown",
   "metadata": {
    "slideshow": {
     "slide_type": "fragment"
    }
   },
   "source": [
    "Normally you will not really tune this parameters, apart from max_depth (and potentially learning_rate, but with so many others to tune I suggest to settle for sensible value). You can modify them, e.g. learning rate, if you think it makes sense, but you would rather not use hyperopt / sklearn grid search to find the optimal values here."
   ]
  },
  {
   "cell_type": "markdown",
   "metadata": {
    "slideshow": {
     "slide_type": "slide"
    }
   },
   "source": [
    "# Effect of max_depth error characteristics"
   ]
  },
  {
   "cell_type": "code",
   "execution_count": 31,
   "metadata": {
    "collapsed": true,
    "slideshow": {
     "slide_type": "-"
    }
   },
   "outputs": [],
   "source": [
    "results = []\n",
    "\n",
    "for max_depth in [3, 6, 9, 12, 15, 30]:\n",
    "    clf = xgb.XGBClassifier(max_depth=max_depth, n_estimators=20)\n",
    "    clf = clf.fit(X_train, y_train, eval_set=[(X_train, y_train), (X_val, y_val)], verbose=False)\n",
    "    results.append(\n",
    "        {\n",
    "            'max_depth': max_depth,\n",
    "            'train_error': 1 - accuracy_score(y_train, clf.predict(X_train)),\n",
    "            'validation_error': 1 - accuracy_score(y_val, clf.predict(X_val)),\n",
    "            'test_error': 1 - accuracy_score(y_test, clf.predict(X_test))\n",
    "        }\n",
    "    )\n",
    "    "
   ]
  },
  {
   "cell_type": "code",
   "execution_count": 32,
   "metadata": {
    "slideshow": {
     "slide_type": "subslide"
    }
   },
   "outputs": [
    {
     "data": {
      "text/html": [
       "<div>\n",
       "<style scoped>\n",
       "    .dataframe tbody tr th:only-of-type {\n",
       "        vertical-align: middle;\n",
       "    }\n",
       "\n",
       "    .dataframe tbody tr th {\n",
       "        vertical-align: top;\n",
       "    }\n",
       "\n",
       "    .dataframe thead th {\n",
       "        text-align: right;\n",
       "    }\n",
       "</style>\n",
       "<table border=\"1\" class=\"dataframe\">\n",
       "  <thead>\n",
       "    <tr style=\"text-align: right;\">\n",
       "      <th></th>\n",
       "      <th>test_error</th>\n",
       "      <th>train_error</th>\n",
       "      <th>validation_error</th>\n",
       "    </tr>\n",
       "    <tr>\n",
       "      <th>max_depth</th>\n",
       "      <th></th>\n",
       "      <th></th>\n",
       "      <th></th>\n",
       "    </tr>\n",
       "  </thead>\n",
       "  <tbody>\n",
       "    <tr>\n",
       "      <th>3</th>\n",
       "      <td>0.504647</td>\n",
       "      <td>0.398630</td>\n",
       "      <td>0.462218</td>\n",
       "    </tr>\n",
       "    <tr>\n",
       "      <th>6</th>\n",
       "      <td>0.489379</td>\n",
       "      <td>0.292785</td>\n",
       "      <td>0.444101</td>\n",
       "    </tr>\n",
       "    <tr>\n",
       "      <th>9</th>\n",
       "      <td>0.492167</td>\n",
       "      <td>0.219755</td>\n",
       "      <td>0.443217</td>\n",
       "    </tr>\n",
       "    <tr>\n",
       "      <th>12</th>\n",
       "      <td>0.495884</td>\n",
       "      <td>0.169263</td>\n",
       "      <td>0.441008</td>\n",
       "    </tr>\n",
       "    <tr>\n",
       "      <th>15</th>\n",
       "      <td>0.492698</td>\n",
       "      <td>0.134350</td>\n",
       "      <td>0.437914</td>\n",
       "    </tr>\n",
       "    <tr>\n",
       "      <th>30</th>\n",
       "      <td>0.492432</td>\n",
       "      <td>0.064192</td>\n",
       "      <td>0.439682</td>\n",
       "    </tr>\n",
       "  </tbody>\n",
       "</table>\n",
       "</div>"
      ],
      "text/plain": [
       "           test_error  train_error  validation_error\n",
       "max_depth                                           \n",
       "3            0.504647     0.398630          0.462218\n",
       "6            0.489379     0.292785          0.444101\n",
       "9            0.492167     0.219755          0.443217\n",
       "12           0.495884     0.169263          0.441008\n",
       "15           0.492698     0.134350          0.437914\n",
       "30           0.492432     0.064192          0.439682"
      ]
     },
     "execution_count": 32,
     "metadata": {},
     "output_type": "execute_result"
    }
   ],
   "source": [
    "df_max_depth = pd.DataFrame(results).set_index('max_depth').sort_index()\n",
    "df_max_depth"
   ]
  },
  {
   "cell_type": "code",
   "execution_count": 33,
   "metadata": {
    "slideshow": {
     "slide_type": "subslide"
    }
   },
   "outputs": [
    {
     "data": {
      "text/plain": [
       "<matplotlib.axes._subplots.AxesSubplot at 0x11de96d68>"
      ]
     },
     "execution_count": 33,
     "metadata": {},
     "output_type": "execute_result"
    },
    {
     "data": {
      "image/png": "[encoded data removed]",
      "text/plain": [
       "<matplotlib.figure.Figure at 0x11bda3c18>"
      ]
     },
     "metadata": {},
     "output_type": "display_data"
    }
   ],
   "source": [
    "df_max_depth.plot(ylim=(0,0.7), figsize=(12,5))"
   ]
  },
  {
   "cell_type": "markdown",
   "metadata": {
    "slideshow": {
     "slide_type": "slide"
    }
   },
   "source": [
    "# And how does learning speed affects the whole process?"
   ]
  },
  {
   "cell_type": "code",
   "execution_count": 34,
   "metadata": {
    "collapsed": true,
    "slideshow": {
     "slide_type": "-"
    }
   },
   "outputs": [],
   "source": [
    "results = []\n",
    "\n",
    "for learning_rate in [0.05, 0.1, 0.2, 0.4, 0.6, 0.8, 1.0]:\n",
    "    clf = xgb.XGBClassifier(learning_rate=learning_rate)\n",
    "    clf = clf.fit(X_train, y_train, eval_set=[(X_train, y_train), (X_val, y_val)], verbose=False)\n",
    "    results.append(\n",
    "        {\n",
    "            'learning_rate': learning_rate,\n",
    "            'train_error': 1 - accuracy_score(y_train, clf.predict(X_train)),\n",
    "            'validation_error': 1 - accuracy_score(y_val, clf.predict(X_val)),\n",
    "            'test_error': 1 - accuracy_score(y_test, clf.predict(X_test))\n",
    "        }\n",
    "    )\n",
    "    "
   ]
  },
  {
   "cell_type": "code",
   "execution_count": 35,
   "metadata": {
    "slideshow": {
     "slide_type": "subslide"
    }
   },
   "outputs": [
    {
     "data": {
      "text/html": [
       "<div>\n",
       "<style scoped>\n",
       "    .dataframe tbody tr th:only-of-type {\n",
       "        vertical-align: middle;\n",
       "    }\n",
       "\n",
       "    .dataframe tbody tr th {\n",
       "        vertical-align: top;\n",
       "    }\n",
       "\n",
       "    .dataframe thead th {\n",
       "        text-align: right;\n",
       "    }\n",
       "</style>\n",
       "<table border=\"1\" class=\"dataframe\">\n",
       "  <thead>\n",
       "    <tr style=\"text-align: right;\">\n",
       "      <th></th>\n",
       "      <th>test_error</th>\n",
       "      <th>train_error</th>\n",
       "      <th>validation_error</th>\n",
       "    </tr>\n",
       "    <tr>\n",
       "      <th>learning_rate</th>\n",
       "      <th></th>\n",
       "      <th></th>\n",
       "      <th></th>\n",
       "    </tr>\n",
       "  </thead>\n",
       "  <tbody>\n",
       "    <tr>\n",
       "      <th>0.05</th>\n",
       "      <td>0.479819</td>\n",
       "      <td>0.322285</td>\n",
       "      <td>0.434379</td>\n",
       "    </tr>\n",
       "    <tr>\n",
       "      <th>0.10</th>\n",
       "      <td>0.461365</td>\n",
       "      <td>0.241962</td>\n",
       "      <td>0.411843</td>\n",
       "    </tr>\n",
       "    <tr>\n",
       "      <th>0.20</th>\n",
       "      <td>0.456187</td>\n",
       "      <td>0.158436</td>\n",
       "      <td>0.395493</td>\n",
       "    </tr>\n",
       "    <tr>\n",
       "      <th>0.40</th>\n",
       "      <td>0.467472</td>\n",
       "      <td>0.077781</td>\n",
       "      <td>0.399470</td>\n",
       "    </tr>\n",
       "    <tr>\n",
       "      <th>0.60</th>\n",
       "      <td>0.484466</td>\n",
       "      <td>0.050713</td>\n",
       "      <td>0.412285</td>\n",
       "    </tr>\n",
       "    <tr>\n",
       "      <th>0.80</th>\n",
       "      <td>0.492698</td>\n",
       "      <td>0.039222</td>\n",
       "      <td>0.438356</td>\n",
       "    </tr>\n",
       "    <tr>\n",
       "      <th>1.00</th>\n",
       "      <td>0.501328</td>\n",
       "      <td>0.032925</td>\n",
       "      <td>0.443217</td>\n",
       "    </tr>\n",
       "  </tbody>\n",
       "</table>\n",
       "</div>"
      ],
      "text/plain": [
       "               test_error  train_error  validation_error\n",
       "learning_rate                                           \n",
       "0.05             0.479819     0.322285          0.434379\n",
       "0.10             0.461365     0.241962          0.411843\n",
       "0.20             0.456187     0.158436          0.395493\n",
       "0.40             0.467472     0.077781          0.399470\n",
       "0.60             0.484466     0.050713          0.412285\n",
       "0.80             0.492698     0.039222          0.438356\n",
       "1.00             0.501328     0.032925          0.443217"
      ]
     },
     "execution_count": 35,
     "metadata": {},
     "output_type": "execute_result"
    }
   ],
   "source": [
    "df_learning_rate = pd.DataFrame(results).set_index('learning_rate').sort_index()\n",
    "df_learning_rate"
   ]
  },
  {
   "cell_type": "code",
   "execution_count": 36,
   "metadata": {
    "slideshow": {
     "slide_type": "subslide"
    }
   },
   "outputs": [
    {
     "data": {
      "text/plain": [
       "<matplotlib.axes._subplots.AxesSubplot at 0x11ddebb38>"
      ]
     },
     "execution_count": 36,
     "metadata": {},
     "output_type": "execute_result"
    },
    {
     "data": {
      "image/png": "[encoded data removed]",
      "text/plain": [
       "<matplotlib.figure.Figure at 0x11deaed68>"
      ]
     },
     "metadata": {},
     "output_type": "display_data"
    }
   ],
   "source": [
    "df_learning_rate.plot(ylim=(0,0.55), figsize=(12,5))"
   ]
  },
  {
   "cell_type": "markdown",
   "metadata": {
    "slideshow": {
     "slide_type": "slide"
    }
   },
   "source": [
    "# Random subsampling parameters\n",
    "- subsample (subsample ratio of the training instance)\n",
    "- colsample_bytree (subsample ratio of columns when constructing each tree\n",
    "- colsample_bylevel (as above, but per level of the tree rather than whole tree)"
   ]
  },
  {
   "cell_type": "markdown",
   "metadata": {
    "slideshow": {
     "slide_type": "slide"
    }
   },
   "source": [
    "# subsample"
   ]
  },
  {
   "cell_type": "code",
   "execution_count": 37,
   "metadata": {
    "slideshow": {
     "slide_type": "-"
    }
   },
   "outputs": [],
   "source": [
    "subsample_search_grid = np.arange(0.2, 1.01, 0.2)\n",
    "results = []\n",
    "\n",
    "for subsample in subsample_search_grid:\n",
    "    clf = xgb.XGBClassifier(subsample=subsample, learning_rate=1.0)\n",
    "    clf = clf.fit(X_train, y_train, eval_set=[(X_train, y_train), (X_val, y_val)], verbose=False)\n",
    "    results.append(\n",
    "        {\n",
    "            'subsample': subsample,\n",
    "            'train_error': 1 - accuracy_score(y_train, clf.predict(X_train)),\n",
    "            'validation_error': 1 - accuracy_score(y_val, clf.predict(X_val)),\n",
    "            'test_error': 1 - accuracy_score(y_test, clf.predict(X_test))\n",
    "        }\n",
    "    )\n",
    "    "
   ]
  },
  {
   "cell_type": "code",
   "execution_count": 38,
   "metadata": {
    "slideshow": {
     "slide_type": "subslide"
    }
   },
   "outputs": [
    {
     "data": {
      "text/html": [
       "<div>\n",
       "<style scoped>\n",
       "    .dataframe tbody tr th:only-of-type {\n",
       "        vertical-align: middle;\n",
       "    }\n",
       "\n",
       "    .dataframe tbody tr th {\n",
       "        vertical-align: top;\n",
       "    }\n",
       "\n",
       "    .dataframe thead th {\n",
       "        text-align: right;\n",
       "    }\n",
       "</style>\n",
       "<table border=\"1\" class=\"dataframe\">\n",
       "  <thead>\n",
       "    <tr style=\"text-align: right;\">\n",
       "      <th></th>\n",
       "      <th>test_error</th>\n",
       "      <th>train_error</th>\n",
       "      <th>validation_error</th>\n",
       "    </tr>\n",
       "    <tr>\n",
       "      <th>subsample</th>\n",
       "      <th></th>\n",
       "      <th></th>\n",
       "      <th></th>\n",
       "    </tr>\n",
       "  </thead>\n",
       "  <tbody>\n",
       "    <tr>\n",
       "      <th>0.2</th>\n",
       "      <td>0.649628</td>\n",
       "      <td>0.273009</td>\n",
       "      <td>0.587715</td>\n",
       "    </tr>\n",
       "    <tr>\n",
       "      <th>0.4</th>\n",
       "      <td>0.550186</td>\n",
       "      <td>0.050271</td>\n",
       "      <td>0.488290</td>\n",
       "    </tr>\n",
       "    <tr>\n",
       "      <th>0.6</th>\n",
       "      <td>0.520579</td>\n",
       "      <td>0.035024</td>\n",
       "      <td>0.463102</td>\n",
       "    </tr>\n",
       "    <tr>\n",
       "      <th>0.8</th>\n",
       "      <td>0.517791</td>\n",
       "      <td>0.033256</td>\n",
       "      <td>0.459125</td>\n",
       "    </tr>\n",
       "    <tr>\n",
       "      <th>1.0</th>\n",
       "      <td>0.501328</td>\n",
       "      <td>0.032925</td>\n",
       "      <td>0.443217</td>\n",
       "    </tr>\n",
       "  </tbody>\n",
       "</table>\n",
       "</div>"
      ],
      "text/plain": [
       "           test_error  train_error  validation_error\n",
       "subsample                                           \n",
       "0.2          0.649628     0.273009          0.587715\n",
       "0.4          0.550186     0.050271          0.488290\n",
       "0.6          0.520579     0.035024          0.463102\n",
       "0.8          0.517791     0.033256          0.459125\n",
       "1.0          0.501328     0.032925          0.443217"
      ]
     },
     "execution_count": 38,
     "metadata": {},
     "output_type": "execute_result"
    }
   ],
   "source": [
    "df_subsample = pd.DataFrame(results).set_index('subsample').sort_index()\n",
    "df_subsample"
   ]
  },
  {
   "cell_type": "code",
   "execution_count": 48,
   "metadata": {
    "slideshow": {
     "slide_type": "subslide"
    }
   },
   "outputs": [
    {
     "data": {
      "text/plain": [
       "<matplotlib.axes._subplots.AxesSubplot at 0x1198b1080>"
      ]
     },
     "execution_count": 48,
     "metadata": {},
     "output_type": "execute_result"
    },
    {
     "data": {
      "image/png": "[encoded data removed]",
      "text/plain": [
       "<matplotlib.figure.Figure at 0x11a264710>"
      ]
     },
     "metadata": {},
     "output_type": "display_data"
    }
   ],
   "source": [
    "df_subsample.plot(ylim=(0,0.7), figsize=(12,5))"
   ]
  },
  {
   "cell_type": "markdown",
   "metadata": {
    "slideshow": {
     "slide_type": "slide"
    }
   },
   "source": [
    "# colsample_bytree"
   ]
  },
  {
   "cell_type": "code",
   "execution_count": 40,
   "metadata": {
    "slideshow": {
     "slide_type": "-"
    }
   },
   "outputs": [],
   "source": [
    "colsample_bytree_search_grid = np.arange(0.2, 1.01, 0.2)\n",
    "results = []\n",
    "\n",
    "for colsample_bytree in colsample_bytree_search_grid:\n",
    "    clf = xgb.XGBClassifier(colsample_bytree=colsample_bytree, learning_rate=1.0)\n",
    "    clf = clf.fit(X_train, y_train, eval_set=[(X_train, y_train), (X_val, y_val)], verbose=False)\n",
    "    results.append(\n",
    "        {\n",
    "            'colsample_bytree': colsample_bytree,\n",
    "            'train_error': 1 - accuracy_score(y_train, clf.predict(X_train)),\n",
    "            'validation_error': 1 - accuracy_score(y_val, clf.predict(X_val)),\n",
    "            'test_error': 1 - accuracy_score(y_test, clf.predict(X_test))\n",
    "        }\n",
    "    )\n",
    "    "
   ]
  },
  {
   "cell_type": "code",
   "execution_count": 41,
   "metadata": {
    "slideshow": {
     "slide_type": "subslide"
    }
   },
   "outputs": [
    {
     "data": {
      "text/html": [
       "<div>\n",
       "<style scoped>\n",
       "    .dataframe tbody tr th:only-of-type {\n",
       "        vertical-align: middle;\n",
       "    }\n",
       "\n",
       "    .dataframe tbody tr th {\n",
       "        vertical-align: top;\n",
       "    }\n",
       "\n",
       "    .dataframe thead th {\n",
       "        text-align: right;\n",
       "    }\n",
       "</style>\n",
       "<table border=\"1\" class=\"dataframe\">\n",
       "  <thead>\n",
       "    <tr style=\"text-align: right;\">\n",
       "      <th></th>\n",
       "      <th>test_error</th>\n",
       "      <th>train_error</th>\n",
       "      <th>validation_error</th>\n",
       "    </tr>\n",
       "    <tr>\n",
       "      <th>colsample_bytree</th>\n",
       "      <th></th>\n",
       "      <th></th>\n",
       "      <th></th>\n",
       "    </tr>\n",
       "  </thead>\n",
       "  <tbody>\n",
       "    <tr>\n",
       "      <th>0.2</th>\n",
       "      <td>0.503717</td>\n",
       "      <td>0.036018</td>\n",
       "      <td>0.439240</td>\n",
       "    </tr>\n",
       "    <tr>\n",
       "      <th>0.4</th>\n",
       "      <td>0.508763</td>\n",
       "      <td>0.035687</td>\n",
       "      <td>0.440566</td>\n",
       "    </tr>\n",
       "    <tr>\n",
       "      <th>0.6</th>\n",
       "      <td>0.500000</td>\n",
       "      <td>0.034361</td>\n",
       "      <td>0.451613</td>\n",
       "    </tr>\n",
       "    <tr>\n",
       "      <th>0.8</th>\n",
       "      <td>0.499203</td>\n",
       "      <td>0.032041</td>\n",
       "      <td>0.453380</td>\n",
       "    </tr>\n",
       "    <tr>\n",
       "      <th>1.0</th>\n",
       "      <td>0.501328</td>\n",
       "      <td>0.032925</td>\n",
       "      <td>0.443217</td>\n",
       "    </tr>\n",
       "  </tbody>\n",
       "</table>\n",
       "</div>"
      ],
      "text/plain": [
       "                  test_error  train_error  validation_error\n",
       "colsample_bytree                                           \n",
       "0.2                 0.503717     0.036018          0.439240\n",
       "0.4                 0.508763     0.035687          0.440566\n",
       "0.6                 0.500000     0.034361          0.451613\n",
       "0.8                 0.499203     0.032041          0.453380\n",
       "1.0                 0.501328     0.032925          0.443217"
      ]
     },
     "execution_count": 41,
     "metadata": {},
     "output_type": "execute_result"
    }
   ],
   "source": [
    "df_colsample_bytree = pd.DataFrame(results).set_index('colsample_bytree').sort_index()\n",
    "df_colsample_bytree"
   ]
  },
  {
   "cell_type": "code",
   "execution_count": 42,
   "metadata": {
    "slideshow": {
     "slide_type": "subslide"
    }
   },
   "outputs": [
    {
     "data": {
      "text/plain": [
       "<matplotlib.axes._subplots.AxesSubplot at 0x11bdd4d68>"
      ]
     },
     "execution_count": 42,
     "metadata": {},
     "output_type": "execute_result"
    },
    {
     "data": {
      "image/png": "[encoded data removed]",
      "text/plain": [
       "<matplotlib.figure.Figure at 0x11b6c0048>"
      ]
     },
     "metadata": {},
     "output_type": "display_data"
    }
   ],
   "source": [
    "df_colsample_bytree.plot(ylim=(0,0.55), figsize=(12,5))"
   ]
  },
  {
   "cell_type": "markdown",
   "metadata": {
    "slideshow": {
     "slide_type": "slide"
    }
   },
   "source": [
    "# colsample_bylevel"
   ]
  },
  {
   "cell_type": "code",
   "execution_count": 43,
   "metadata": {
    "collapsed": true,
    "slideshow": {
     "slide_type": "-"
    }
   },
   "outputs": [],
   "source": [
    "colsample_bylevel_search_grid = np.arange(0.2, 1.01, 0.2)\n",
    "results = []\n",
    "\n",
    "for colsample_bylevel in colsample_bylevel_search_grid:\n",
    "    clf = xgb.XGBClassifier(colsample_bylevel=colsample_bylevel, learning_rate=1.0)\n",
    "    clf = clf.fit(X_train, y_train, eval_set=[(X_train, y_train), (X_val, y_val)], verbose=False)\n",
    "    results.append(\n",
    "        {\n",
    "            'colsample_bylevel': colsample_bylevel,\n",
    "            'train_error': 1 - accuracy_score(y_train, clf.predict(X_train)),\n",
    "            'validation_error': 1 - accuracy_score(y_val, clf.predict(X_val)),\n",
    "            'test_error': 1 - accuracy_score(y_test, clf.predict(X_test))\n",
    "        }\n",
    "    )\n",
    "    "
   ]
  },
  {
   "cell_type": "code",
   "execution_count": 44,
   "metadata": {
    "slideshow": {
     "slide_type": "subslide"
    }
   },
   "outputs": [
    {
     "data": {
      "text/html": [
       "<div>\n",
       "<style scoped>\n",
       "    .dataframe tbody tr th:only-of-type {\n",
       "        vertical-align: middle;\n",
       "    }\n",
       "\n",
       "    .dataframe tbody tr th {\n",
       "        vertical-align: top;\n",
       "    }\n",
       "\n",
       "    .dataframe thead th {\n",
       "        text-align: right;\n",
       "    }\n",
       "</style>\n",
       "<table border=\"1\" class=\"dataframe\">\n",
       "  <thead>\n",
       "    <tr style=\"text-align: right;\">\n",
       "      <th></th>\n",
       "      <th>test_error</th>\n",
       "      <th>train_error</th>\n",
       "      <th>validation_error</th>\n",
       "    </tr>\n",
       "    <tr>\n",
       "      <th>colsample_bylevel</th>\n",
       "      <th></th>\n",
       "      <th></th>\n",
       "      <th></th>\n",
       "    </tr>\n",
       "  </thead>\n",
       "  <tbody>\n",
       "    <tr>\n",
       "      <th>0.2</th>\n",
       "      <td>0.503585</td>\n",
       "      <td>0.035134</td>\n",
       "      <td>0.436589</td>\n",
       "    </tr>\n",
       "    <tr>\n",
       "      <th>0.4</th>\n",
       "      <td>0.499336</td>\n",
       "      <td>0.033808</td>\n",
       "      <td>0.444985</td>\n",
       "    </tr>\n",
       "    <tr>\n",
       "      <th>0.6</th>\n",
       "      <td>0.497876</td>\n",
       "      <td>0.034582</td>\n",
       "      <td>0.439240</td>\n",
       "    </tr>\n",
       "    <tr>\n",
       "      <th>0.8</th>\n",
       "      <td>0.505975</td>\n",
       "      <td>0.032593</td>\n",
       "      <td>0.459567</td>\n",
       "    </tr>\n",
       "    <tr>\n",
       "      <th>1.0</th>\n",
       "      <td>0.501328</td>\n",
       "      <td>0.032925</td>\n",
       "      <td>0.443217</td>\n",
       "    </tr>\n",
       "  </tbody>\n",
       "</table>\n",
       "</div>"
      ],
      "text/plain": [
       "                   test_error  train_error  validation_error\n",
       "colsample_bylevel                                           \n",
       "0.2                  0.503585     0.035134          0.436589\n",
       "0.4                  0.499336     0.033808          0.444985\n",
       "0.6                  0.497876     0.034582          0.439240\n",
       "0.8                  0.505975     0.032593          0.459567\n",
       "1.0                  0.501328     0.032925          0.443217"
      ]
     },
     "execution_count": 44,
     "metadata": {},
     "output_type": "execute_result"
    }
   ],
   "source": [
    "df_colsample_bylevel = pd.DataFrame(results).set_index('colsample_bylevel').sort_index()\n",
    "df_colsample_bylevel"
   ]
  },
  {
   "cell_type": "code",
   "execution_count": 45,
   "metadata": {
    "slideshow": {
     "slide_type": "subslide"
    }
   },
   "outputs": [
    {
     "data": {
      "text/plain": [
       "<matplotlib.axes._subplots.AxesSubplot at 0x11a21d160>"
      ]
     },
     "execution_count": 45,
     "metadata": {},
     "output_type": "execute_result"
    },
    {
     "data": {
      "image/png": "[encoded data removed]",
      "text/plain": [
       "<matplotlib.figure.Figure at 0x11a21da90>"
      ]
     },
     "metadata": {},
     "output_type": "display_data"
    }
   ],
   "source": [
    "df_colsample_bylevel.plot(ylim=(0,0.55), figsize=(12,5))"
   ]
  },
  {
   "cell_type": "markdown",
   "metadata": {
    "slideshow": {
     "slide_type": "slide"
    }
   },
   "source": [
    "# XGBoost objective regularization\n",
    "\n",
    "![Color](img/regularization.png)\n",
    "![Color](img/l2_norm.png)"
   ]
  },
  {
   "cell_type": "markdown",
   "metadata": {
    "slideshow": {
     "slide_type": "subslide"
    }
   },
   "source": [
    "# Regularization parameters\n",
    "\n",
    "- reg_alpha (L1 regularization, L1 norm factor)\n",
    "- reg_lambda (L2 regularization, L2 norm factor)\n",
    "- gamma (\"L0 regularization\" - dependent on number of leaves)\n",
    "- min_child_weight - minimum sum o hessians in a child, for RMSE regression it is simply number of examples\n",
    "\n",
    "- min_child_weight for binary classification would be a sum of second order gradients caluclated by formula:\n",
    "```cpp\n",
    "std::max(predt * (1.0f - predt), eps)\n",
    "```"
   ]
  },
  {
   "cell_type": "markdown",
   "metadata": {
    "slideshow": {
     "slide_type": "subslide"
    }
   },
   "source": [
    "# Difference between min_child_weight and gamma\n",
    "\n",
    "- min_child_weight is like a local optimization, there is certain path of the tree that leads to certain number of instances with certain weights there\n",
    "- gamma is global, it takes into account number of all leaves in a tree\n",
    "\n",
    "![Color](img/tree_example.png)"
   ]
  },
  {
   "cell_type": "markdown",
   "metadata": {
    "slideshow": {
     "slide_type": "subslide"
    }
   },
   "source": [
    "# How to tune regularization parameters\n",
    "\n",
    "- min_child_weight you can just set as sensible value\n",
    "- alfa, lambda and gamma though depend very much on your other parameters\n",
    "- different values will be optimal for tree depth 6, and totally different for tree depth 15, as number and weights of leaves will differ a lot"
   ]
  },
  {
   "cell_type": "raw",
   "metadata": {
    "slideshow": {
     "slide_type": "slide"
    }
   },
   "source": [
    "<image>\n",
    "</section>\n",
    "<section data-background=\"#0093C9\" data-state=\"no-title-footer\">\n",
    "  <div class=\"divider_h1\">\n",
    "    <h1>Feature importance analysis</h1>\n",
    "  </div>\n",
    "</section>\n",
    "</image>"
   ]
  },
  {
   "cell_type": "code",
   "execution_count": 69,
   "metadata": {
    "slideshow": {
     "slide_type": "slide"
    }
   },
   "outputs": [
    {
     "data": {
      "text/plain": [
       "<matplotlib.axes._subplots.AxesSubplot at 0x1255a50f0>"
      ]
     },
     "execution_count": 69,
     "metadata": {},
     "output_type": "execute_result"
    },
    {
     "data": {
      "image/png": "[encoded data removed]",
      "text/plain": [
       "<matplotlib.figure.Figure at 0x1254e47f0>"
      ]
     },
     "metadata": {},
     "output_type": "display_data"
    }
   ],
   "source": [
    "# tf was our TfIdfVectorizer\n",
    "# clf is our trained xgboost\n",
    "type(clf.feature_importances_)\n",
    "df = pd.DataFrame([tf.get_feature_names(), list(clf.feature_importances_)]).T\n",
    "df.columns = ['feature_name', 'feature_score']\n",
    "df.sort_values('feature_score', ascending=False, inplace=True)\n",
    "df.set_index('feature_name', inplace=True)\n",
    "df.iloc[:10].plot(kind='barh', legend=False, figsize=(12,5))"
   ]
  },
  {
   "cell_type": "markdown",
   "metadata": {
    "slideshow": {
     "slide_type": "slide"
    }
   },
   "source": [
    "# Lessons learned from feature analysis\n",
    "\n",
    "- as you see most of the features look like stopwords\n",
    "- they can actually correspond to post length and some writing style of contributors\n",
    "- as general practice says, and winners of many Kaggle competitions agree on:\n",
    "    - feature enegineering is extremely important\n",
    "    - aim to maintain your code in such manner, that at least initially you can analyse the features\n",
    "    - there are some dedicated packages for analysis of feature importance for \"black box\" models (eli5)\n",
    "    - and also xgboost has a possibility of more sophisticated feature analysis, could be in repo version only though"
   ]
  },
  {
   "cell_type": "raw",
   "metadata": {
    "slideshow": {
     "slide_type": "slide"
    }
   },
   "source": [
    "<image>\n",
    "</section>\n",
    "<section data-background=\"#0093C9\" data-state=\"no-title-footer\">\n",
    "  <div class=\"divider_h1\">\n",
    "    <h1>Summary</h1>\n",
    "  </div>\n",
    "</section>\n",
    "</image>"
   ]
  },
  {
   "cell_type": "markdown",
   "metadata": {
    "slideshow": {
     "slide_type": "subslide"
    }
   },
   "source": [
    "# Some things not mentioned elsewhere\n",
    "\n",
    "- in regression problems, tree version of XGBoost cannot extrapolate\n",
    "- current documentation is not compatibile with Python package (which is quite outdated)\n",
    "- there are some histogram based improvements, similar like in LightGBM, to train the models faster (a lot of issues were reported about this feature)\n",
    "- in 0.6a2 version from pip repo, there is a bug in handling csr matrices"
   ]
  },
  {
   "cell_type": "markdown",
   "metadata": {
    "slideshow": {
     "slide_type": "subslide"
    }
   },
   "source": [
    "# Links\n",
    "\n",
    "- https://github.com/datitran/jupyter2slides\n",
    "\n",
    "- https://github.com/dmlc/xgboost\n",
    "\n",
    "- https://arxiv.org/pdf/1603.02754.pdf"
   ]
  },
  {
   "cell_type": "raw",
   "metadata": {
    "slideshow": {
     "slide_type": "slide"
    }
   },
   "source": [
    "<image>\n",
    "</section>\n",
    "<section data-background=\"#00C900\" data-state=\"no-title-footer\">\n",
    "  <div class=\"divider_h1\">\n",
    "    <h1>Questions?</h1>\n",
    "  </div>\n",
    "</section>\n",
    "</image>"
   ]
  }
 ],
 "metadata": {
  "celltoolbar": "Slideshow",
  "kernelspec": {
   "display_name": "Python 3",
   "language": "python",
   "name": "python3"
  },
  "language_info": {
   "codemirror_mode": {
    "name": "ipython",
    "version": 3
   },
   "file_extension": ".py",
   "mimetype": "text/x-python",
   "name": "python",
   "nbconvert_exporter": "python",
   "pygments_lexer": "ipython3",
   "version": "3.5.3"
  }
 },
 "nbformat": 4,
 "nbformat_minor": 1
}
